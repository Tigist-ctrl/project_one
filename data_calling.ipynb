{
 "cells": [
  {
   "cell_type": "code",
   "execution_count": 93,
   "metadata": {},
   "outputs": [],
   "source": [
    "import requests\n",
    "import json\n",
    "from pprint import pprint\n",
    "import numpy as np\n",
    "import pandas as pd\n",
    "\n",
    "api_key = \"rA0vy4zNu4RpkIseRL4eccSlExzx2RMphwqHRUQo\""
   ]
  },
  {
   "cell_type": "markdown",
   "metadata": {},
   "source": [
    "# # Pull ORI Codes from original csv"
   ]
  },
  {
   "cell_type": "code",
   "execution_count": 94,
   "metadata": {},
   "outputs": [
    {
     "data": {
      "text/html": [
       "<div>\n",
       "<style scoped>\n",
       "    .dataframe tbody tr th:only-of-type {\n",
       "        vertical-align: middle;\n",
       "    }\n",
       "\n",
       "    .dataframe tbody tr th {\n",
       "        vertical-align: top;\n",
       "    }\n",
       "\n",
       "    .dataframe thead th {\n",
       "        text-align: right;\n",
       "    }\n",
       "</style>\n",
       "<table border=\"1\" class=\"dataframe\">\n",
       "  <thead>\n",
       "    <tr style=\"text-align: right;\">\n",
       "      <th></th>\n",
       "      <th>State</th>\n",
       "      <th>State Ab.</th>\n",
       "      <th>State Capital</th>\n",
       "      <th>Population</th>\n",
       "      <th>ORI Code</th>\n",
       "      <th>No. of Officers</th>\n",
       "      <th>No. of (Offenses</th>\n",
       "    </tr>\n",
       "  </thead>\n",
       "  <tbody>\n",
       "    <tr>\n",
       "      <th>0</th>\n",
       "      <td>ALABAMA</td>\n",
       "      <td>AL</td>\n",
       "      <td>Montgomery</td>\n",
       "      <td>198,525</td>\n",
       "      <td>NaN</td>\n",
       "      <td>NaN</td>\n",
       "      <td>NaN</td>\n",
       "    </tr>\n",
       "    <tr>\n",
       "      <th>1</th>\n",
       "      <td>ALASKA</td>\n",
       "      <td>AK</td>\n",
       "      <td>Juneau</td>\n",
       "      <td>32,113</td>\n",
       "      <td>NaN</td>\n",
       "      <td>NaN</td>\n",
       "      <td>NaN</td>\n",
       "    </tr>\n",
       "    <tr>\n",
       "      <th>2</th>\n",
       "      <td>ARIZONA</td>\n",
       "      <td>AZ</td>\n",
       "      <td>Phoenix</td>\n",
       "      <td>1,680,992</td>\n",
       "      <td>NaN</td>\n",
       "      <td>NaN</td>\n",
       "      <td>NaN</td>\n",
       "    </tr>\n",
       "    <tr>\n",
       "      <th>3</th>\n",
       "      <td>ARKANSAS</td>\n",
       "      <td>AR</td>\n",
       "      <td>Little Rock</td>\n",
       "      <td>197,312</td>\n",
       "      <td>NaN</td>\n",
       "      <td>NaN</td>\n",
       "      <td>NaN</td>\n",
       "    </tr>\n",
       "    <tr>\n",
       "      <th>4</th>\n",
       "      <td>CALIFORNIA</td>\n",
       "      <td>CA</td>\n",
       "      <td>Sacramento</td>\n",
       "      <td>513,624</td>\n",
       "      <td>NaN</td>\n",
       "      <td>NaN</td>\n",
       "      <td>NaN</td>\n",
       "    </tr>\n",
       "  </tbody>\n",
       "</table>\n",
       "</div>"
      ],
      "text/plain": [
       "        State State Ab. State Capital Population ORI Code  No. of Officers  \\\n",
       "0     ALABAMA        AL    Montgomery    198,525      NaN              NaN   \n",
       "1      ALASKA        AK        Juneau     32,113      NaN              NaN   \n",
       "2     ARIZONA        AZ       Phoenix  1,680,992      NaN              NaN   \n",
       "3    ARKANSAS        AR   Little Rock    197,312      NaN              NaN   \n",
       "4  CALIFORNIA        CA    Sacramento    513,624      NaN              NaN   \n",
       "\n",
       "   No. of (Offenses  \n",
       "0               NaN  \n",
       "1               NaN  \n",
       "2               NaN  \n",
       "3               NaN  \n",
       "4               NaN  "
      ]
     },
     "execution_count": 94,
     "metadata": {},
     "output_type": "execute_result"
    }
   ],
   "source": [
    "project_one_df = pd.read_csv(\"data_for_project_one.csv\")\n",
    "project_one_df.head()"
   ]
  },
  {
   "cell_type": "code",
   "execution_count": 108,
   "metadata": {},
   "outputs": [
    {
     "data": {
      "text/plain": [
       "['MD0020100',\n",
       " 'MA0130100',\n",
       " 'MI3351900',\n",
       " 'MN0620900',\n",
       " 'MS0250100',\n",
       " 'MO0260100',\n",
       " 'MT0250100',\n",
       " 'NB0550100',\n",
       " 'NV0130000']"
      ]
     },
     "execution_count": 108,
     "metadata": {},
     "output_type": "execute_result"
    }
   ],
   "source": [
    "#states 21-30\n",
    "ori = project_one_df[\"ORI Code\"][19:28].tolist()\n",
    "ori"
   ]
  },
  {
   "cell_type": "markdown",
   "metadata": {},
   "source": [
    "# # Loop through API endpoint for crime case num"
   ]
  },
  {
   "cell_type": "code",
   "execution_count": 96,
   "metadata": {},
   "outputs": [
    {
     "name": "stdout",
     "output_type": "stream",
     "text": [
      "Processing record 1\n",
      "Processing record 2\n",
      "Processing record 3\n",
      "Processing record 4\n",
      "Processing record 5\n",
      "Processing record 6\n",
      "Processing record 7\n",
      "Processing record 8\n",
      "Processing record 9\n",
      "------\n",
      "Done\n",
      "------\n"
     ]
    }
   ],
   "source": [
    "#states 21-30\n",
    "begin_year = \"2018\"\n",
    "end_year = \"2018\"\n",
    "\n",
    "simple_assault_cases = []\n",
    "stolen_property_cases = []\n",
    "rape_cases = []\n",
    "ori_list = ori\n",
    "\n",
    "\n",
    "for ori2 in range(len(ori_list)):\n",
    "    response2 = requests.get(f\"https://api.usa.gov/crime/fbi/sapi/api/data/arrest/agencies/offense/{ori_list[ori2]}/all/{begin_year}/{end_year}?API_KEY={api_key}\").json()\n",
    "    try:\n",
    "        simple_assault_cases.append(response2[\"results\"][0][\"simple_assault\"])\n",
    "        stolen_property_cases.append(response2[\"results\"][0][\"stolen_property\"])\n",
    "        rape_cases.append(response2[\"results\"][0][\"rape\"])\n",
    "    except IndexError:\n",
    "        simple_assault_cases.append(np.nan)\n",
    "        stolen_property_cases.append(np.nan)\n",
    "        rape_cases.append(np.nan)\n",
    "    # Printing queries\n",
    "    print(f\"Processing record {ori2 + 1}\")\n",
    "print(\"------\")\n",
    "print(\"Done\")\n",
    "print(\"------\")"
   ]
  },
  {
   "cell_type": "markdown",
   "metadata": {},
   "source": [
    "# # Merge case number data with original csv "
   ]
  },
  {
   "cell_type": "code",
   "execution_count": 97,
   "metadata": {},
   "outputs": [
    {
     "data": {
      "text/html": [
       "<div>\n",
       "<style scoped>\n",
       "    .dataframe tbody tr th:only-of-type {\n",
       "        vertical-align: middle;\n",
       "    }\n",
       "\n",
       "    .dataframe tbody tr th {\n",
       "        vertical-align: top;\n",
       "    }\n",
       "\n",
       "    .dataframe thead th {\n",
       "        text-align: right;\n",
       "    }\n",
       "</style>\n",
       "<table border=\"1\" class=\"dataframe\">\n",
       "  <thead>\n",
       "    <tr style=\"text-align: right;\">\n",
       "      <th></th>\n",
       "      <th>State</th>\n",
       "      <th>State Ab.</th>\n",
       "      <th>State Capital</th>\n",
       "      <th>Population</th>\n",
       "      <th>ORI Code</th>\n",
       "      <th>No. of Officers</th>\n",
       "      <th>No. of (Offenses</th>\n",
       "      <th>Simple Assault Cases</th>\n",
       "      <th>Stolen Property Cases</th>\n",
       "      <th>Rape Cases</th>\n",
       "    </tr>\n",
       "  </thead>\n",
       "  <tbody>\n",
       "    <tr>\n",
       "      <th>0</th>\n",
       "      <td>MARYLAND</td>\n",
       "      <td>MD</td>\n",
       "      <td>Annapolis</td>\n",
       "      <td>39,174</td>\n",
       "      <td>MD0020100</td>\n",
       "      <td>NaN</td>\n",
       "      <td>NaN</td>\n",
       "      <td>162</td>\n",
       "      <td>3</td>\n",
       "      <td>5</td>\n",
       "    </tr>\n",
       "    <tr>\n",
       "      <th>1</th>\n",
       "      <td>MASSACHUSETTS</td>\n",
       "      <td>MA</td>\n",
       "      <td>Boston</td>\n",
       "      <td>692,600</td>\n",
       "      <td>MA0130100</td>\n",
       "      <td>NaN</td>\n",
       "      <td>NaN</td>\n",
       "      <td>1612</td>\n",
       "      <td>169</td>\n",
       "      <td>43</td>\n",
       "    </tr>\n",
       "    <tr>\n",
       "      <th>2</th>\n",
       "      <td>MICHIGAN</td>\n",
       "      <td>MI</td>\n",
       "      <td>Lansing</td>\n",
       "      <td>118,210</td>\n",
       "      <td>MI3351900</td>\n",
       "      <td>NaN</td>\n",
       "      <td>NaN</td>\n",
       "      <td>791</td>\n",
       "      <td>22</td>\n",
       "      <td>17</td>\n",
       "    </tr>\n",
       "    <tr>\n",
       "      <th>3</th>\n",
       "      <td>MINNESOTA</td>\n",
       "      <td>MN</td>\n",
       "      <td>Saint Paul</td>\n",
       "      <td>308,096</td>\n",
       "      <td>MN0620900</td>\n",
       "      <td>NaN</td>\n",
       "      <td>NaN</td>\n",
       "      <td>984</td>\n",
       "      <td>43</td>\n",
       "      <td>16</td>\n",
       "    </tr>\n",
       "    <tr>\n",
       "      <th>4</th>\n",
       "      <td>MISSISSIPPI</td>\n",
       "      <td>MS</td>\n",
       "      <td>Jackson</td>\n",
       "      <td>160,628</td>\n",
       "      <td>MS0250100</td>\n",
       "      <td>NaN</td>\n",
       "      <td>NaN</td>\n",
       "      <td>445</td>\n",
       "      <td>106</td>\n",
       "      <td>8</td>\n",
       "    </tr>\n",
       "  </tbody>\n",
       "</table>\n",
       "</div>"
      ],
      "text/plain": [
       "           State State Ab. State Capital Population   ORI Code  \\\n",
       "0       MARYLAND        MD     Annapolis     39,174  MD0020100   \n",
       "1  MASSACHUSETTS        MA        Boston    692,600  MA0130100   \n",
       "2       MICHIGAN        MI       Lansing    118,210  MI3351900   \n",
       "3      MINNESOTA        MN    Saint Paul    308,096  MN0620900   \n",
       "4    MISSISSIPPI        MS       Jackson    160,628  MS0250100   \n",
       "\n",
       "   No. of Officers  No. of (Offenses  Simple Assault Cases  \\\n",
       "0              NaN               NaN                   162   \n",
       "1              NaN               NaN                  1612   \n",
       "2              NaN               NaN                   791   \n",
       "3              NaN               NaN                   984   \n",
       "4              NaN               NaN                   445   \n",
       "\n",
       "   Stolen Property Cases  Rape Cases  \n",
       "0                      3           5  \n",
       "1                    169          43  \n",
       "2                     22          17  \n",
       "3                     43          16  \n",
       "4                    106           8  "
      ]
     },
     "execution_count": 97,
     "metadata": {},
     "output_type": "execute_result"
    }
   ],
   "source": [
    "df=pd.DataFrame(list(zip(ori_list, simple_assault_cases, stolen_property_cases, rape_cases)), \n",
    "               columns = ['ORI Code', \"Simple Assault Cases\", \"Stolen Property Cases\", \"Rape Cases\"])\n",
    "\n",
    "\n",
    "cases_merged_df = pd.merge(project_one_df, df, on= \"ORI Code\")\n",
    "\n",
    "cases_merged_df.head()"
   ]
  },
  {
   "cell_type": "markdown",
   "metadata": {},
   "source": [
    "# # Loop through API endpoint for number of officers per ori "
   ]
  },
  {
   "cell_type": "code",
   "execution_count": 98,
   "metadata": {},
   "outputs": [
    {
     "name": "stdout",
     "output_type": "stream",
     "text": [
      "Beginning Data Retrieval\n",
      "------------------------\n",
      "Processing record 1\n",
      "Processing record 2\n",
      "Processing record 3\n",
      "Processing record 4\n",
      "Processing record 5\n",
      "Processing record 6\n",
      "Processing record 7\n",
      "Processing record 8\n",
      "Processing record 9\n",
      "------------------------\n",
      "Data Retrieval Complete\n",
      "------------------------\n"
     ]
    }
   ],
   "source": [
    "ori_list = ori\n",
    "female =[]\n",
    "male =[]\n",
    "begin_year = \"2018\"\n",
    "end_year = \"2018\"\n",
    "\n",
    "print(\"Beginning Data Retrieval\")\n",
    "print(\"------------------------\")\n",
    "for ori2 in range(len(ori_list)):\n",
    "    response = requests.get(f\"https://api.usa.gov/crime/fbi/sapi/api/police-employment/agencies/{ori_list[ori2]}/{begin_year}/{end_year}?API_KEY={api_key}\").json()\n",
    "\n",
    "    try:\n",
    "        print(f\"Processing record {ori2 + 1}\")\n",
    "        female.append(response[\"results\"][0][\"female_officer_ct\"])\n",
    "        male.append(response[\"results\"][0][\"male_officer_ct\"])\n",
    "    except:\n",
    "        print(\"Not found\")\n",
    "        pass\n",
    "print(\"------------------------\")\n",
    "print(\"Data Retrieval Complete\")\n",
    "print(\"------------------------\")"
   ]
  },
  {
   "cell_type": "code",
   "execution_count": 102,
   "metadata": {},
   "outputs": [
    {
     "data": {
      "text/plain": [
       "[106, 1839, 149, 540, None, 82, 45, 288, 90]"
      ]
     },
     "execution_count": 102,
     "metadata": {},
     "output_type": "execute_result"
    }
   ],
   "source": [
    "male"
   ]
  },
  {
   "cell_type": "code",
   "execution_count": 107,
   "metadata": {},
   "outputs": [
    {
     "ename": "NameError",
     "evalue": "name 'officers_df' is not defined",
     "output_type": "error",
     "traceback": [
      "\u001b[1;31m---------------------------------------------------------------------------\u001b[0m",
      "\u001b[1;31mNameError\u001b[0m                                 Traceback (most recent call last)",
      "\u001b[1;32m<ipython-input-107-e02a0c8de95e>\u001b[0m in \u001b[0;36m<module>\u001b[1;34m\u001b[0m\n\u001b[0;32m      1\u001b[0m \u001b[0mofficer_df\u001b[0m \u001b[1;33m=\u001b[0m \u001b[0mpd\u001b[0m\u001b[1;33m.\u001b[0m\u001b[0mDataFrame\u001b[0m\u001b[1;33m(\u001b[0m\u001b[1;33m{\u001b[0m\u001b[1;34m\"Male Officers\"\u001b[0m\u001b[1;33m:\u001b[0m \u001b[0mmale\u001b[0m\u001b[1;33m,\u001b[0m \u001b[1;34m\"Female Officers\"\u001b[0m \u001b[1;33m:\u001b[0m \u001b[0mfemale\u001b[0m\u001b[1;33m}\u001b[0m\u001b[1;33m)\u001b[0m\u001b[1;33m\u001b[0m\u001b[1;33m\u001b[0m\u001b[0m\n\u001b[0;32m      2\u001b[0m \u001b[0mofficer_df\u001b[0m\u001b[1;33m[\u001b[0m\u001b[1;34m\"Total Number\"\u001b[0m\u001b[1;33m]\u001b[0m\u001b[1;33m=\u001b[0m\u001b[0mofficer_df\u001b[0m\u001b[1;33m[\u001b[0m\u001b[1;34m\"Male Officers\"\u001b[0m\u001b[1;33m]\u001b[0m\u001b[1;33m+\u001b[0m\u001b[0mofficer_df\u001b[0m\u001b[1;33m[\u001b[0m\u001b[1;34m\"Female Officers\"\u001b[0m\u001b[1;33m]\u001b[0m\u001b[1;33m\u001b[0m\u001b[1;33m\u001b[0m\u001b[0m\n\u001b[1;32m----> 3\u001b[1;33m \u001b[0mofficers_df\u001b[0m\u001b[1;33m\u001b[0m\u001b[1;33m\u001b[0m\u001b[0m\n\u001b[0m",
      "\u001b[1;31mNameError\u001b[0m: name 'officers_df' is not defined"
     ]
    }
   ],
   "source": [
    "officer_df = pd.DataFrame({\"Male Officers\": male, \"Female Officers\" : female})\n",
    "officer_df[\"Total Number\"]=officer_df[\"Male Officers\"]+officer_df[\"Female Officers\"]\n",
    "officers_df"
   ]
  },
  {
   "cell_type": "code",
   "execution_count": 106,
   "metadata": {},
   "outputs": [
    {
     "data": {
      "text/html": [
       "<div>\n",
       "<style scoped>\n",
       "    .dataframe tbody tr th:only-of-type {\n",
       "        vertical-align: middle;\n",
       "    }\n",
       "\n",
       "    .dataframe tbody tr th {\n",
       "        vertical-align: top;\n",
       "    }\n",
       "\n",
       "    .dataframe thead th {\n",
       "        text-align: right;\n",
       "    }\n",
       "</style>\n",
       "<table border=\"1\" class=\"dataframe\">\n",
       "  <thead>\n",
       "    <tr style=\"text-align: right;\">\n",
       "      <th></th>\n",
       "      <th>Male Officers</th>\n",
       "      <th>Female Officers</th>\n",
       "      <th>Total Number</th>\n",
       "    </tr>\n",
       "  </thead>\n",
       "  <tbody>\n",
       "    <tr>\n",
       "      <th>0</th>\n",
       "      <td>106.0</td>\n",
       "      <td>13.0</td>\n",
       "      <td>119.0</td>\n",
       "    </tr>\n",
       "    <tr>\n",
       "      <th>1</th>\n",
       "      <td>1839.0</td>\n",
       "      <td>283.0</td>\n",
       "      <td>2122.0</td>\n",
       "    </tr>\n",
       "    <tr>\n",
       "      <th>2</th>\n",
       "      <td>149.0</td>\n",
       "      <td>39.0</td>\n",
       "      <td>188.0</td>\n",
       "    </tr>\n",
       "    <tr>\n",
       "      <th>3</th>\n",
       "      <td>540.0</td>\n",
       "      <td>91.0</td>\n",
       "      <td>631.0</td>\n",
       "    </tr>\n",
       "    <tr>\n",
       "      <th>4</th>\n",
       "      <td>NaN</td>\n",
       "      <td>NaN</td>\n",
       "      <td>NaN</td>\n",
       "    </tr>\n",
       "    <tr>\n",
       "      <th>5</th>\n",
       "      <td>82.0</td>\n",
       "      <td>6.0</td>\n",
       "      <td>88.0</td>\n",
       "    </tr>\n",
       "    <tr>\n",
       "      <th>6</th>\n",
       "      <td>45.0</td>\n",
       "      <td>7.0</td>\n",
       "      <td>52.0</td>\n",
       "    </tr>\n",
       "    <tr>\n",
       "      <th>7</th>\n",
       "      <td>288.0</td>\n",
       "      <td>56.0</td>\n",
       "      <td>344.0</td>\n",
       "    </tr>\n",
       "    <tr>\n",
       "      <th>8</th>\n",
       "      <td>90.0</td>\n",
       "      <td>5.0</td>\n",
       "      <td>95.0</td>\n",
       "    </tr>\n",
       "  </tbody>\n",
       "</table>\n",
       "</div>"
      ],
      "text/plain": [
       "   Male Officers  Female Officers  Total Number\n",
       "0          106.0             13.0         119.0\n",
       "1         1839.0            283.0        2122.0\n",
       "2          149.0             39.0         188.0\n",
       "3          540.0             91.0         631.0\n",
       "4            NaN              NaN           NaN\n",
       "5           82.0              6.0          88.0\n",
       "6           45.0              7.0          52.0\n",
       "7          288.0             56.0         344.0\n",
       "8           90.0              5.0          95.0"
      ]
     },
     "execution_count": 106,
     "metadata": {},
     "output_type": "execute_result"
    }
   ],
   "source": []
  },
  {
   "cell_type": "code",
   "execution_count": null,
   "metadata": {},
   "outputs": [],
   "source": []
  },
  {
   "cell_type": "code",
   "execution_count": null,
   "metadata": {},
   "outputs": [],
   "source": []
  },
  {
   "cell_type": "code",
   "execution_count": null,
   "metadata": {},
   "outputs": [],
   "source": []
  }
 ],
 "metadata": {
  "kernelspec": {
   "display_name": "Python 3",
   "language": "python",
   "name": "python3"
  },
  "language_info": {
   "codemirror_mode": {
    "name": "ipython",
    "version": 3
   },
   "file_extension": ".py",
   "mimetype": "text/x-python",
   "name": "python",
   "nbconvert_exporter": "python",
   "pygments_lexer": "ipython3",
   "version": "3.8.3"
  }
 },
 "nbformat": 4,
 "nbformat_minor": 4
}
