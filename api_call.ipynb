{
 "cells": [
  {
   "cell_type": "code",
   "execution_count": 30,
   "metadata": {},
   "outputs": [],
   "source": [
    "import requests\n",
    "import json\n",
    "\n",
    "api_key = \"rA0vy4zNu4RpkIseRL4eccSlExzx2RMphwqHRUQo\""
   ]
  },
  {
   "cell_type": "code",
   "execution_count": 47,
   "metadata": {},
   "outputs": [],
   "source": [
    "offense = \"motor-vehicle-theft\"\n",
    "ori = \"MS0250100\"\n",
    "variable = \"count\"\n",
    "\n",
    "#offense-tkm-controller endpoint\n",
    "url = f\"https://api.usa.gov/crime/fbi/sapi/api/nibrs/{offense}/offense/agencies/{ori}/{variable}?api_key=\"\n",
    "\n",
    "query_url = url + api_key\n",
    "response = requests.get(query_url).json()"
   ]
  },
  {
   "cell_type": "code",
   "execution_count": 48,
   "metadata": {},
   "outputs": [
    {
     "data": {
      "text/plain": [
       "{'ui_type': 'text',\n",
       " 'noun': 'offense',\n",
       " 'category': None,\n",
       " 'title': 'Offense Count',\n",
       " 'short_title': None,\n",
       " 'ui_restriction': None,\n",
       " 'keys': ['Incident Count', 'Offense Count'],\n",
       " 'data': [],\n",
       " 'precise_data': []}"
      ]
     },
     "execution_count": 48,
     "metadata": {},
     "output_type": "execute_result"
    }
   ],
   "source": [
    "response"
   ]
  },
  {
   "cell_type": "code",
   "execution_count": null,
   "metadata": {},
   "outputs": [],
   "source": []
  }
 ],
 "metadata": {
  "kernelspec": {
   "display_name": "Python 3",
   "language": "python",
   "name": "python3"
  },
  "language_info": {
   "codemirror_mode": {
    "name": "ipython",
    "version": 3
   },
   "file_extension": ".py",
   "mimetype": "text/x-python",
   "name": "python",
   "nbconvert_exporter": "python",
   "pygments_lexer": "ipython3",
   "version": "3.8.3"
  }
 },
 "nbformat": 4,
 "nbformat_minor": 4
}
